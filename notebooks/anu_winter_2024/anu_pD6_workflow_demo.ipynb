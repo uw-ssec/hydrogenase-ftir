{
 "cells": [
  {
   "cell_type": "code",
   "execution_count": null,
   "metadata": {},
   "outputs": [],
   "source": [
    "import sys\n",
    "sys.path.append(\"/Users/anuram/Documents/Documents/hydrogenase-ftir/src\")\n",
    "sys.path.append(\"/Users/anuram/Documents/Documents/hydrogenase-ftir/notebooks/anu_winter_2024\")\n",
    "#sys.path.append(\"/Users/anuram/Documents/Documents/hydrogenase-ftir/src/hydrogenase_processing\")"
   ]
  },
  {
   "cell_type": "code",
   "execution_count": null,
   "metadata": {},
   "outputs": [],
   "source": [
    "%load_ext autoreload\n",
    "%autoreload 2\n",
    "\n",
    "#Setting Up and Importing the Necessary Packages/Libraries\n",
    "##Package for reading in Bruker OPUS type files\n",
    "from brukeropusreader import read_file\n",
    "import matplotlib.pyplot as plt\n",
    "from scipy.interpolate import UnivariateSpline\n",
    "import pathlib\n",
    "\n",
    "#Local Functions\n",
    "from hydrogenase_processing.cut_range import cut_range_subtract_prospecpy_objects\n",
    "from hydrogenase_processing.second_deriv import  second_deriv_prospecpy_objects\n",
    "from hydrogenase_processing.anchor_points import get_peaks_absorbance, get_peak_wid_at_half_height\n",
    "from hydrogenase_processing.baseline import baseline_spline, baseline_correction, get_baseline_peak_index\n",
    "from hydrogenase_processing.peak_fit import peak_fit\n",
    "from hydrogenase_processing.io import import_run_data\n",
    "from hydrogenase_processing.interact import interact\n"
   ]
  },
  {
   "cell_type": "markdown",
   "metadata": {},
   "source": [
    "# Importing spectra data and water vapor data"
   ]
  },
  {
   "cell_type": "code",
   "execution_count": null,
   "metadata": {},
   "outputs": [],
   "source": [
    "#Paths to Local Data\n",
    "path_to_water_vapor_data = pathlib.Path(\"../../data/opus_files/water_vapor\")\n",
    "path_to_output_plots_= pathlib.Path(\"../../data/output_plots/\")\n",
    "path_to_pD6_data = pathlib.Path(\"../../data/opus_files/pD6\")"
   ]
  },
  {
   "cell_type": "code",
   "execution_count": null,
   "metadata": {},
   "outputs": [],
   "source": [
    "pD6_raw_data = import_run_data(path_to_pD6_data, input_type=\"raw spectra\", output_folder = '/Users/anuram/Documents/output_ftir4_test_21072024')\n",
    "wv_data = import_run_data(path_to_water_vapor_data)"
   ]
  },
  {
   "cell_type": "markdown",
   "metadata": {},
   "source": [
    "# Subtracting water vapor from raw spectra"
   ]
  },
  {
   "cell_type": "code",
   "execution_count": null,
   "metadata": {},
   "outputs": [],
   "source": [
    "#Initializing dict of post water vapor subtraction spectra\n",
    "cut_range_subtract_prospecpy_objects(pD6_raw_data, wv_data, range_start = 2150, range_end = 1850, showplots=False, verbose= False)\n",
    "#pD6_raw_data[].cut_subtracted_data"
   ]
  },
  {
   "cell_type": "markdown",
   "metadata": {},
   "source": [
    "## Get the second derivatives"
   ]
  },
  {
   "cell_type": "code",
   "execution_count": null,
   "metadata": {},
   "outputs": [],
   "source": [
    "second_deriv_prospecpy_objects(pD6_raw_data, show_plots=False, verbose = False)"
   ]
  },
  {
   "cell_type": "markdown",
   "metadata": {},
   "source": [
    "## Using a user interface please select the appropriate number of peaks using the threshold variable and number of anchor points using adjustment factor variable"
   ]
  },
  {
   "cell_type": "code",
   "execution_count": null,
   "metadata": {},
   "outputs": [],
   "source": [
    "interact(pD6_raw_data,0.4,1.8)"
   ]
  },
  {
   "cell_type": "markdown",
   "metadata": {},
   "source": [
    "# Baseline correction and cruve fit for an example spectra workflow:"
   ]
  },
  {
   "cell_type": "markdown",
   "metadata": {},
   "source": [
    "## Fit baseline spline through these anchor points to be used for baseline correction of raw spectra"
   ]
  },
  {
   "cell_type": "code",
   "execution_count": null,
   "metadata": {},
   "outputs": [],
   "source": [
    "baseline_curve = baseline_spline(anchor_point_dict, smooth=10**-9)\n",
    "peak_wv, peak_abs = get_peaks_absorbance(deriv_x_peak_val, anchor_points_raw_data, y_corr_abs)\n",
    "\n",
    "plt.plot(anchor_points_raw_data, y_corr_abs, label = 'raw data')\n",
    "plt.plot(baseline_curve['wavenumber'], baseline_curve['absorbance'], 'r-', label = 'baseline spline')\n",
    "plt.plot(peak_wv, peak_abs, 'go', label = 'peaks')\n",
    "plt.ylabel('Absorbance')\n",
    "plt.xlabel('wavenumber')\n",
    "plt.legend()"
   ]
  },
  {
   "cell_type": "markdown",
   "metadata": {},
   "source": [
    "## Subtract the baseline spline from the raw data and plot the results"
   ]
  },
  {
   "cell_type": "code",
   "execution_count": null,
   "metadata": {},
   "outputs": [],
   "source": [
    "baseline_corrected_abs = baseline_correction(baseline_curve, anchor_points_raw_data, y_corr_abs)\n",
    "peak_wv_index, peak_wv_baseline, peak_baseline_abs = get_baseline_peak_index(baseline_corrected_abs, anchor_points_raw_data, peak_wv)\n"
   ]
  },
  {
   "cell_type": "markdown",
   "metadata": {},
   "source": [
    "# Get peak widths at half peak height"
   ]
  },
  {
   "cell_type": "code",
   "execution_count": null,
   "metadata": {},
   "outputs": [],
   "source": [
    "peakwidth_at_half_height = get_peak_wid_at_half_height(baseline_corrected_abs, peak_wv_index)\n",
    "print(peakwidth_at_half_height)"
   ]
  },
  {
   "cell_type": "markdown",
   "metadata": {},
   "source": [
    "# Fitting gaussian and lorentizian curves on the baseline corrected data"
   ]
  },
  {
   "cell_type": "code",
   "execution_count": null,
   "metadata": {},
   "outputs": [],
   "source": [
    "params, rmse = peak_fit('Gaussian', anchor_points_raw_data, baseline_corrected_abs, peak_wv_index)\n",
    "print(f'Root mean squared error is {rmse}')"
   ]
  },
  {
   "cell_type": "code",
   "execution_count": null,
   "metadata": {},
   "outputs": [],
   "source": []
  },
  {
   "cell_type": "code",
   "execution_count": null,
   "metadata": {},
   "outputs": [],
   "source": [
    "params, rmse = peak_fit('Lorentzian', anchor_points_raw_data, baseline_corrected_abs, peak_wv_index)\n",
    "print(f'Root mean squared error is {rmse}')"
   ]
  }
 ],
 "metadata": {
  "kernelspec": {
   "display_name": "hydrogen",
   "language": "python",
   "name": "python3"
  },
  "language_info": {
   "codemirror_mode": {
    "name": "ipython",
    "version": 3
   },
   "file_extension": ".py",
   "mimetype": "text/x-python",
   "name": "python",
   "nbconvert_exporter": "python",
   "pygments_lexer": "ipython3",
   "version": "3.10.11"
  }
 },
 "nbformat": 4,
 "nbformat_minor": 2
}
