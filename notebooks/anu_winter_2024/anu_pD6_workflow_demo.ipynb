{
 "cells": [
  {
   "cell_type": "code",
   "execution_count": null,
   "metadata": {},
   "outputs": [],
   "source": [
    "import sys\n",
    "sys.path.append(\"/Users/anuram/Documents/Documents/hydrogenase-ftir/src\")\n",
    "sys.path.append(\"/Users/anuram/Documents/Documents/hydrogenase-ftir/notebooks/anu_winter_2024\")\n",
    "#sys.path.append(\"/Users/anuram/Documents/Documents/hydrogenase-ftir/src/hydrogenase_processing\")"
   ]
  },
  {
   "cell_type": "code",
   "execution_count": null,
   "metadata": {},
   "outputs": [],
   "source": [
    "%load_ext autoreload\n",
    "%autoreload 2\n",
    "\n",
    "#Setting Up and Importing the Necessary Packages/Libraries\n",
    "##Package for reading in Bruker OPUS type files\n",
    "from brukeropusreader import read_file\n",
    "import matplotlib.pyplot as plt\n",
    "from scipy.interpolate import UnivariateSpline\n",
    "import pathlib\n",
    "import numpy as np\n",
    "import pandas as pd\n",
    "#Local Functions\n",
    "from hydrogenase_processing.cut_range import cut_range_subtract_multiple_wv\n",
    "from hydrogenase_processing.second_deriv import second_deriv, second_deriv_batch\n",
    "from hydrogenase_processing.anchor_points import interact\n",
    "from hydrogenase_processing.anchor_points import baseline_spline, get_peaks_absorbance, baseline_correction, get_baseline_peak_index, get_peak_wid_at_half_height\n",
    "from hydrogenase_processing.vaporfit import atm_subtraction\n",
    "from hydrogenase_processing.vaporfit import AtmFitParams\n",
    "from scipy.signal import find_peaks, peak_widths\n",
    "#from hydrogenase_processing.anchor_points import get_peaks, get_start_end_anchorpoints, get_all_anchor_points, baseline_spline, get_peaks_absorbance, baseline_correction, get_peak_baseline_absorbance, plot_baseline_data\n",
    "from hydrogenase_processing.peak_fit import gaussian, peak_fit, lorentzian\n",
    "from hydrogenase_processing.io import import_run_data\n"
   ]
  },
  {
   "cell_type": "markdown",
   "metadata": {},
   "source": [
    "# Importing spectra data and water vapor data"
   ]
  },
  {
   "cell_type": "code",
   "execution_count": null,
   "metadata": {},
   "outputs": [],
   "source": [
    "#Paths to Local Data\n",
    "path_to_water_vapor_data = pathlib.Path(\"../../data/opus_files/water_vapor\")\n",
    "path_to_output_plots_= pathlib.Path(\"../../data/output_plots/\")\n",
    "path_to_pD6_data = pathlib.Path(\"../../data/opus_files/pD6\")"
   ]
  },
  {
   "cell_type": "code",
   "execution_count": null,
   "metadata": {},
   "outputs": [],
   "source": [
    "pD6_raw_data = import_run_data(path_to_pD6_data)\n",
    "wv_data = import_run_data(path_to_water_vapor_data)"
   ]
  },
  {
   "cell_type": "markdown",
   "metadata": {},
   "source": [
    "# Subtracting water vapor from raw spectra"
   ]
  },
  {
   "cell_type": "code",
   "execution_count": null,
   "metadata": {},
   "outputs": [],
   "source": [
    "#Initializing dict of post water vapor subtraction spectra\n",
    "cut_range_sub_wv_data = cut_range_subtract_multiple_wv(pD6_raw_data, wv_data, range_start = 2150, range_end = 1850)\n"
   ]
  },
  {
   "cell_type": "markdown",
   "metadata": {},
   "source": [
    "## Plot the subtracted data for visual inspection"
   ]
  },
  {
   "cell_type": "code",
   "execution_count": null,
   "metadata": {},
   "outputs": [],
   "source": [
    "sample_raw = cut_range_sub_wv_data[\"Hyd1 pD6 ACT.0008\"]\n",
    "sample_raw[0][0].plot()\n",
    "\n",
    "print(sample_raw[0][0].fit_atm_params)"
   ]
  },
  {
   "cell_type": "markdown",
   "metadata": {},
   "source": [
    "## Get the second derivatives"
   ]
  },
  {
   "cell_type": "code",
   "execution_count": null,
   "metadata": {},
   "outputs": [],
   "source": [
    "second_deriv_pD6_data = second_deriv_batch(cut_range_sub_wv_data)"
   ]
  },
  {
   "cell_type": "markdown",
   "metadata": {},
   "source": [
    "# Baseline correction and cruve fit for an example spectra workflow:"
   ]
  },
  {
   "cell_type": "code",
   "execution_count": null,
   "metadata": {},
   "outputs": [],
   "source": [
    "sample_second_deriv = second_deriv_pD6_data[\"Hyd1 pD6 ACT.0005_second_deriv\"]\n",
    "#print(sample_second_deriv)"
   ]
  },
  {
   "cell_type": "markdown",
   "metadata": {},
   "source": [
    "## Using a user interface please select the appropriate number of peaks using the threshold variable and number of anchor points using adjustment factor variable"
   ]
  },
  {
   "cell_type": "code",
   "execution_count": null,
   "metadata": {},
   "outputs": [],
   "source": [
    "#anchor_point_dict, deriv_x_peak_val, anchor_points_raw_data, y_corr_abs\n",
    "anchor_point_dict, deriv_x_peak_val, anchor_points_raw_data, y_corr_abs = interact(sample_second_deriv, sample_raw, 0.4, 1.8)"
   ]
  },
  {
   "cell_type": "markdown",
   "metadata": {},
   "source": [
    "## Fit baseline spline through these anchor points to be used for baseline correction of raw spectra"
   ]
  },
  {
   "cell_type": "code",
   "execution_count": null,
   "metadata": {},
   "outputs": [],
   "source": [
    "baseline_curve = baseline_spline(anchor_point_dict, smooth=10**-9)\n",
    "peak_wv, peak_abs = get_peaks_absorbance(deriv_x_peak_val, anchor_points_raw_data, y_corr_abs)\n",
    "\n",
    "plt.plot(anchor_points_raw_data, y_corr_abs, label = 'raw data')\n",
    "plt.plot(baseline_curve['wavenumber'], baseline_curve['absorbance'], 'r-', label = 'baseline spline')\n",
    "plt.plot(peak_wv, peak_abs, 'go', label = 'peaks')\n",
    "plt.ylabel('Absorbance')\n",
    "plt.xlabel('wavenumber')\n",
    "plt.legend()"
   ]
  },
  {
   "cell_type": "markdown",
   "metadata": {},
   "source": [
    "## Subtract the baseline spline from the raw data and plot the results"
   ]
  },
  {
   "cell_type": "code",
   "execution_count": null,
   "metadata": {},
   "outputs": [],
   "source": [
    "baseline_corrected_abs = baseline_correction(baseline_curve, anchor_points_raw_data, y_corr_abs)\n",
    "peak_wv_index, peak_wv_baseline, peak_baseline_abs = get_baseline_peak_index(baseline_corrected_abs, anchor_points_raw_data, peak_wv)\n"
   ]
  },
  {
   "cell_type": "markdown",
   "metadata": {},
   "source": [
    "# Get peak widths at half peak height"
   ]
  },
  {
   "cell_type": "code",
   "execution_count": null,
   "metadata": {},
   "outputs": [],
   "source": [
    "peakwidth_at_half_height = get_peak_wid_at_half_height(baseline_corrected_abs, peak_wv_index)\n",
    "print(peakwidth_at_half_height)"
   ]
  },
  {
   "cell_type": "markdown",
   "metadata": {},
   "source": [
    "# Fitting gaussian and lorentizian curves on the baseline corrected data"
   ]
  },
  {
   "cell_type": "code",
   "execution_count": null,
   "metadata": {},
   "outputs": [],
   "source": [
    "params, rmse = peak_fit('Gaussian', anchor_points_raw_data, baseline_corrected_abs, peak_wv_index)\n",
    "print(f'Root mean squared error is {rmse}')"
   ]
  },
  {
   "cell_type": "code",
   "execution_count": null,
   "metadata": {},
   "outputs": [],
   "source": [
    "params, rmse = peak_fit('Lorentzian', anchor_points_raw_data, baseline_corrected_abs, peak_wv_index)\n",
    "print(f'Root mean squared error is {rmse}')"
   ]
  }
 ],
 "metadata": {
  "kernelspec": {
   "display_name": "hydrogen",
   "language": "python",
   "name": "python3"
  },
  "language_info": {
   "codemirror_mode": {
    "name": "ipython",
    "version": 3
   },
   "file_extension": ".py",
   "mimetype": "text/x-python",
   "name": "python",
   "nbconvert_exporter": "python",
   "pygments_lexer": "ipython3",
   "version": "3.10.11"
  }
 },
 "nbformat": 4,
 "nbformat_minor": 2
}
