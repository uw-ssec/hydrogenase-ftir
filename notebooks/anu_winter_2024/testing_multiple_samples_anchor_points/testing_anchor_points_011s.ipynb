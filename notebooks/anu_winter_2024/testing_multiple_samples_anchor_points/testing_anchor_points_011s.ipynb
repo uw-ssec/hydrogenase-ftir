{
 "cells": [
  {
   "cell_type": "code",
   "execution_count": null,
   "metadata": {},
   "outputs": [],
   "source": [
    "import sys\n",
    "sys.path.append(\"/Users/anuram/Documents/hydrogenase-ftir/src\")\n",
    "sys.path.append(\"/Users/anuram/Documents/hydrogenase-ftir/notebooks/anu_winter_2024\")"
   ]
  },
  {
   "cell_type": "code",
   "execution_count": null,
   "metadata": {},
   "outputs": [],
   "source": [
    "%load_ext autoreload\n",
    "%autoreload 2\n",
    "\n",
    "#Setting Up and Importing the Necessary Packages/Libraries\n",
    "##Package for reading in Bruker OPUS type files\n",
    "from brukeropusreader import read_file\n",
    "import matplotlib.pyplot as plt\n",
    "from scipy.interpolate import UnivariateSpline\n",
    "import pathlib\n",
    "import numpy as np\n",
    "import pandas as pd\n",
    "#Local Functions\n",
    "from hydrogenase_processing.cut_range import cut_range_subtraction\n",
    "from hydrogenase_processing.second_deriv import second_deriv, first_deriv\n",
    "#testing\n",
    "#find peaks\n",
    "from scipy.signal import find_peaks, peak_widths\n",
    "from hydrogenase_processing.anchor_points import get_peaks, get_start_end_anchorpoints, get_all_anchor_points, baseline_spline, get_peaks_absorbance, baseline_correction, get_peak_baseline_absorbance\n",
    "from hydrogenase_processing.peak_fit import gaussian, peak_fit, lorentzian"
   ]
  },
  {
   "cell_type": "code",
   "execution_count": null,
   "metadata": {},
   "outputs": [],
   "source": [
    "#Paths to Local Data\n",
    "path_to_water_vapor_data = pathlib.Path(\"../../../data/opus_files/\")\n",
    "path_to_output_plots_= pathlib.Path(\"../../../data/output_plots/\")\n",
    "path_to_all_test_data = pathlib.Path(\"../../../data/opus_files/subtraction_coefficient_testing\") "
   ]
  },
  {
   "cell_type": "markdown",
   "metadata": {},
   "source": [
    "## Importing the Data form the local paths specified above ##"
   ]
  },
  {
   "cell_type": "code",
   "execution_count": null,
   "metadata": {},
   "outputs": [],
   "source": [
    "#Importing Water Vapor\n",
    "wv_data = read_file(f'{path_to_water_vapor_data}''/water vapor 4cm-1.1')"
   ]
  },
  {
   "cell_type": "code",
   "execution_count": null,
   "metadata": {},
   "outputs": [],
   "source": [
    "#Pulling in all test data\n",
    "second_derivative_test_raw_data = list(path_to_all_test_data.iterdir())\n",
    "second_derivative_test_raw_data.sort()\n",
    "\n",
    "#Initializing dict of raw spectra files from the file system\n",
    "raw_data = dict()\n",
    "\n",
    "#Populating the raw_test_data dict with all the read in raw opus files\n",
    "for i in (second_derivative_test_raw_data):\n",
    "    if not i.name.startswith('.DS_Store'):\n",
    "        raw_data[i.name[0:4]] = read_file(i)\n",
    "\n",
    "print(raw_data.keys())"
   ]
  },
  {
   "cell_type": "code",
   "execution_count": null,
   "metadata": {},
   "outputs": [],
   "source": [
    "test_comparisons_parameters_df = pd.read_excel(\"../../../data/test_subtraction_coefficients.xlsx\", sheet_name=\"uncut_samples\")\n",
    "\n",
    "#full_file_names = test_comparisons_parameters_df[\"file_name\"]\n",
    "\n",
    "test_comparisons_parameters_df[\"file_name\"] = test_comparisons_parameters_df[\"file_name\"].apply(lambda file_name: file_name[0:4]) \n",
    "\n",
    "#test_comparisons_parameters_df[\"file_name\"] = exp_num_file_name\n",
    "\n",
    "\n",
    "indexed_test_comparison_parameters = test_comparisons_parameters_df.set_index('file_name')\n"
   ]
  },
  {
   "cell_type": "markdown",
   "metadata": {},
   "source": [
    "## Subtracting Water Vapor\n"
   ]
  },
  {
   "cell_type": "code",
   "execution_count": null,
   "metadata": {},
   "outputs": [],
   "source": [
    "#Initializing dict of post water vapor subtraction spectra\n",
    "cut_range_sub_wv_data = dict()\n",
    "\n",
    "results = list()\n",
    "\n",
    "for idx, row in indexed_test_comparison_parameters.iterrows():  \n",
    "    if idx in raw_data:\n",
    "        raw_data_i = raw_data[idx]\n",
    "        cut_range_sub_wv_data[f'{idx}_cut_range_wv_sub'] = cut_range_subtraction(raw_data_i, wv_data, row[\"range_start\"], row[\"range_end\"], SG_poly = 3, SG_points = 21)\n",
    "        subtraction_parameters = cut_range_sub_wv_data[f'{idx}_cut_range_wv_sub'][0][0].fit_atm_params\n",
    "        results.append(subtraction_parameters[0])\n",
    "    else:\n",
    "        results.append(None)\n",
    "\n",
    "indexed_test_comparison_parameters[\"pb_subtraction_coefficient\"] = results"
   ]
  },
  {
   "cell_type": "markdown",
   "metadata": {},
   "source": [
    "# Get Second derivative\n"
   ]
  },
  {
   "cell_type": "code",
   "execution_count": null,
   "metadata": {},
   "outputs": [],
   "source": [
    "#Extracting wavenb and abs for one of the corrected spectra\n",
    "example_cut_sub = cut_range_sub_wv_data[\"011s_cut_range_wv_sub\"]\n",
    "\n",
    "x = second_deriv(example_cut_sub, show_plots=True)\n"
   ]
  },
  {
   "cell_type": "markdown",
   "metadata": {},
   "source": [
    "## Testing with the smaller peak width algorithm and tuning the ajustment factor"
   ]
  },
  {
   "cell_type": "code",
   "execution_count": null,
   "metadata": {},
   "outputs": [],
   "source": [
    "start = 1\n",
    "end = 5\n",
    "step = 0.15\n",
    "anchor_point_dict = {}\n",
    "adjustment_factor = np.arange(start, end + step, step)\n",
    "#adjustment_factor = [1]\n",
    "#using default prominence threshold of 15%\n",
    "for adj_factor in adjustment_factor:\n",
    "    plt.figure()\n",
    "    peaks_index, deriv_x_peak_val = get_peaks(x, threshold = 0.3)\n",
    "\n",
    "    wv_startIdx, wv_endIdx = get_start_end_anchorpoints(peaks_index[0], x)\n",
    "    y_corr_abs = example_cut_sub[0][0].sub_spectrum\n",
    "    anchor_points_raw_data = example_cut_sub[0][0].wavenb\n",
    "    anchor_point_dict[round(adj_factor, 2)] =get_all_anchor_points(wv_startIdx, wv_endIdx, deriv_x_peak_val, anchor_points_raw_data, y_corr_abs, f'Anchor points using {round(adj_factor, 2)} as adj_factor', round(adj_factor, 2))"
   ]
  },
  {
   "cell_type": "code",
   "execution_count": null,
   "metadata": {},
   "outputs": [],
   "source": [
    "anchor_points = anchor_point_dict.get(1.45)\n",
    "\n",
    "baseline_curve = baseline_spline(anchor_points, degree = 2, smooth=10**-4)\n",
    "peak_wv, peak_abs = get_peaks_absorbance(deriv_x_peak_val, anchor_points_raw_data, y_corr_abs)\n",
    "plt.plot(anchor_points_raw_data, y_corr_abs, label = 'raw data')\n",
    "plt.plot(baseline_curve['wavenumber'], baseline_curve['absorbance'], 'r--', label = 'baseline spline')\n",
    "plt.plot(peak_wv, peak_abs, 'go', label = 'peaks')\n",
    "plt.legend()"
   ]
  },
  {
   "cell_type": "markdown",
   "metadata": {},
   "source": [
    "# Baseline correction"
   ]
  },
  {
   "cell_type": "code",
   "execution_count": null,
   "metadata": {},
   "outputs": [],
   "source": [
    "baseline_corrected_abs = baseline_correction(baseline_curve, anchor_points_raw_data, y_corr_abs)"
   ]
  },
  {
   "cell_type": "code",
   "execution_count": null,
   "metadata": {},
   "outputs": [],
   "source": [
    "#Get the peaks \n",
    "peak_baseline_abs = get_peak_baseline_absorbance(anchor_points_raw_data, baseline_corrected_abs, peak_wv)"
   ]
  },
  {
   "cell_type": "code",
   "execution_count": null,
   "metadata": {},
   "outputs": [],
   "source": [
    "plt.plot(anchor_points_raw_data,baseline_corrected_abs, label = 'baseline corrected data')\n",
    "plt.plot(peak_wv, peak_baseline_abs, 'ro', label = \"peaks\")\n",
    "plt.legend()"
   ]
  },
  {
   "cell_type": "markdown",
   "metadata": {},
   "source": [
    "# Gaussian curve"
   ]
  },
  {
   "cell_type": "code",
   "execution_count": null,
   "metadata": {},
   "outputs": [],
   "source": [
    "\n",
    "#1965.9856171154527, 1951.9393571459448, 1907.5933078136406\n",
    "guess = [0.035, 1907.59, 5, 0.045, 1952, 3, 0.047, 1965.9, 3]\n",
    "params = peak_fit(gaussian,guess,  anchor_points_raw_data, baseline_corrected_abs)"
   ]
  },
  {
   "cell_type": "markdown",
   "metadata": {},
   "source": [
    "# Lorentzian curve"
   ]
  },
  {
   "cell_type": "code",
   "execution_count": null,
   "metadata": {},
   "outputs": [],
   "source": [
    "guess = [0.035, 1907.59, 5, 0.045, 1952, 3, 0.047, 1965.9, 3]\n",
    "params = peak_fit(lorentzian,guess,  anchor_points_raw_data, baseline_corrected_abs)"
   ]
  }
 ],
 "metadata": {
  "kernelspec": {
   "display_name": "hydrogen",
   "language": "python",
   "name": "python3"
  },
  "language_info": {
   "codemirror_mode": {
    "name": "ipython",
    "version": 3
   },
   "file_extension": ".py",
   "mimetype": "text/x-python",
   "name": "python",
   "nbconvert_exporter": "python",
   "pygments_lexer": "ipython3",
   "version": "3.10.11"
  }
 },
 "nbformat": 4,
 "nbformat_minor": 2
}
