{
 "cells": [
  {
   "cell_type": "code",
   "execution_count": 1,
   "metadata": {},
   "outputs": [],
   "source": [
    "import sys\n",
    "sys.path.append(\"/Users/anuram/Documents/hydrogenase-ftir/src\")"
   ]
  },
  {
   "cell_type": "code",
   "execution_count": 74,
   "metadata": {},
   "outputs": [
    {
     "name": "stdout",
     "output_type": "stream",
     "text": [
      "The autoreload extension is already loaded. To reload it, use:\n",
      "  %reload_ext autoreload\n"
     ]
    }
   ],
   "source": [
    "%load_ext autoreload\n",
    "%autoreload 2\n",
    "\n",
    "#Setting Up and Importing the Necessary Packages/Libraries\n",
    "##Package for reading in Bruker OPUS type files\n",
    "from brukeropusreader import read_file\n",
    "import matplotlib.pyplot as plt\n",
    "from scipy.interpolate import UnivariateSpline\n",
    "import pathlib\n",
    "import numpy as np\n",
    "import pandas as pd\n",
    "#Local Functions\n",
    "from hydrogenase_processing.cut_range import cut_range_subtraction\n",
    "from hydrogenase_processing.second_deriv import second_deriv\n",
    "#testing\n",
    "#find peaks\n",
    "from scipy.signal import find_peaks\n",
    "import ast\n",
    "from openpyxl import load_workbook"
   ]
  },
  {
   "cell_type": "code",
   "execution_count": 29,
   "metadata": {},
   "outputs": [],
   "source": [
    "#Paths to Local Data\n",
    "path_to_water_vapor_data = pathlib.Path(\"../../data/opus_files/water_vapor\")\n",
    "path_to_output_plots_= pathlib.Path(\"../../data/output_plots/\")\n",
    "path_to_all_test_data = pathlib.Path(\"../../data/opus_files/subtraction_coefficient_testing\") "
   ]
  },
  {
   "cell_type": "markdown",
   "metadata": {},
   "source": [
    "## Importing the Data form the local paths specified above ##"
   ]
  },
  {
   "cell_type": "code",
   "execution_count": 30,
   "metadata": {},
   "outputs": [],
   "source": [
    "#Importing Water Vapor\n",
    "wv_data = read_file(f'{path_to_water_vapor_data}''/water vapor 4cm-1.1')"
   ]
  },
  {
   "cell_type": "code",
   "execution_count": 31,
   "metadata": {},
   "outputs": [
    {
     "name": "stdout",
     "output_type": "stream",
     "text": [
      "dict_keys(['011a', '011b', '011c', '011d', '011e', '011f', '011g', '011h', '011i', '011k', '011l', '011m', '011n', '011o', '011p', '011q', '011r', '011s', '011t', '160 ', '162 ', '164 ', '165 ', '166 ', '167 ', '168 ', '169 ', '170 ', '171 ', '172 ', '173 ', '174 ', '175 ', '176 '])\n"
     ]
    }
   ],
   "source": [
    "#Pulling in all test data\n",
    "second_derivative_test_raw_data = list(path_to_all_test_data.iterdir())\n",
    "second_derivative_test_raw_data.sort()\n",
    "\n",
    "#Initializing dict of raw spectra files from the file system\n",
    "raw_data = dict()\n",
    "\n",
    "#Populating the raw_test_data dict with all the read in raw opus files\n",
    "for i in (second_derivative_test_raw_data):\n",
    "    if not i.name.startswith('.DS_Store'):\n",
    "        raw_data[i.name[0:4]] = read_file(i)\n",
    "\n",
    "print(raw_data.keys())"
   ]
  },
  {
   "cell_type": "code",
   "execution_count": 35,
   "metadata": {},
   "outputs": [],
   "source": [
    "test_comparisons_parameters_df = pd.read_excel(\"../../data/test_subtraction_coefficients.xlsx\", sheet_name=\"uncut_samples\")\n",
    "\n",
    "#full_file_names = test_comparisons_parameters_df[\"file_name\"]\n",
    "\n",
    "test_comparisons_parameters_df[\"file_name\"] = test_comparisons_parameters_df[\"file_name\"].apply(lambda file_name: file_name[0:4]) \n",
    "\n",
    "#test_comparisons_parameters_df[\"file_name\"] = exp_num_file_name\n",
    "\n",
    "\n",
    "indexed_test_comparison_parameters = test_comparisons_parameters_df.set_index('file_name')"
   ]
  },
  {
   "cell_type": "code",
   "execution_count": 37,
   "metadata": {},
   "outputs": [
    {
     "name": "stdout",
     "output_type": "stream",
     "text": [
      "160 \n",
      "2150.0 1800.0\n",
      "959 1141\n",
      "167 \n",
      "2150.0 1800.0\n",
      "959 1141\n",
      "162 \n",
      "2150.0 1800.0\n",
      "959 1141\n",
      "011a\n",
      "2150.0 1800.0\n",
      "959 1141\n",
      "011b\n",
      "2150.0 1850.0\n",
      "959 1115\n",
      "011c\n",
      "2150.0 1850.0\n",
      "959 1115\n",
      "011d\n",
      "2150.0 1850.0\n",
      "959 1115\n",
      "011e\n",
      "2150.0 1850.0\n",
      "959 1115\n",
      "011f\n",
      "2150.0 1850.0\n",
      "959 1115\n",
      "011g\n",
      "2150.0 1850.0\n",
      "959 1115\n",
      "011h\n",
      "2150.0 1850.0\n",
      "959 1115\n",
      "011i\n",
      "2150.0 1850.0\n",
      "959 1115\n",
      "011k\n",
      "2150.0 1850.0\n",
      "959 1115\n",
      "011l\n",
      "2150.0 1850.0\n",
      "959 1115\n",
      "011m\n",
      "2150.0 1850.0\n",
      "959 1115\n",
      "011n\n",
      "2150.0 1850.0\n",
      "959 1115\n",
      "011o\n",
      "2150.0 1850.0\n",
      "959 1115\n",
      "011p\n",
      "2150.0 1850.0\n",
      "959 1115\n",
      "011q\n",
      "2150.0 1850.0\n",
      "959 1115\n",
      "011r\n",
      "2150.0 1850.0\n",
      "959 1115\n",
      "011s\n",
      "2150.0 1850.0\n",
      "959 1115\n",
      "011t\n",
      "2150.0 1850.0\n",
      "959 1115\n",
      "164 \n",
      "2150.0 1850.0\n",
      "959 1115\n",
      "165 \n",
      "2150.0 1850.0\n",
      "959 1115\n",
      "166 \n",
      "2150.0 1850.0\n",
      "959 1115\n",
      "168 \n",
      "2150.0 1850.0\n",
      "959 1115\n",
      "169 \n",
      "2150.0 1850.0\n",
      "959 1115\n",
      "170 \n",
      "2150.0 1850.0\n",
      "959 1115\n",
      "171 \n",
      "2150.0 1850.0\n",
      "959 1115\n",
      "172 \n",
      "2150.0 1850.0\n",
      "959 1115\n",
      "173 \n",
      "2150.0 1850.0\n",
      "959 1115\n",
      "174 \n",
      "2150.0 1850.0\n",
      "959 1115\n",
      "175 \n",
      "2150.0 1850.0\n",
      "959 1115\n",
      "176 \n",
      "2150.0 1850.0\n",
      "959 1115\n"
     ]
    }
   ],
   "source": [
    "#Initializing dict of post water vapor subtraction spectra\n",
    "cut_range_sub_wv_data = dict()\n",
    "\n",
    "results = list()\n",
    "\n",
    "for idx, row in indexed_test_comparison_parameters.iterrows():  \n",
    "    if idx in raw_data:\n",
    "        print(idx)\n",
    "        raw_data_i = raw_data[idx]\n",
    "        cut_range_sub_wv_data[f'{idx}_cut_range_wv_sub'] = cut_range_subtraction(raw_data_i, wv_data, row[\"range_start\"], row[\"range_end\"], SG_poly = 3, SG_points = 21)\n",
    "        subtraction_parameters = cut_range_sub_wv_data[f'{idx}_cut_range_wv_sub'][0][0].fit_atm_params\n",
    "        results.append(subtraction_parameters[0])\n",
    "        \n",
    "    else:\n",
    "        results.append(None)\n",
    "\n",
    "indexed_test_comparison_parameters[\"pb_subtraction_coefficient\"] = results"
   ]
  },
  {
   "cell_type": "code",
   "execution_count": 38,
   "metadata": {},
   "outputs": [],
   "source": [
    "def peakDetectionTest(manual_peaks,prospecpy_peaks):\n",
    "    detected_peak = [False]*len(manual_peaks)\n",
    "    #In these two for loops cross check every value in the prospecpy_peaks with the manual peaks \n",
    "    #and if the absolute difference between the wavenumbers are <=2 consider that peak to be detetcted.\n",
    "    #Make that index true in the detected peak array\n",
    "    #Detection rate is total number of trues in detected peak array/ length of detected peak array\n",
    "    for prospec_peak in prospecpy_peaks:\n",
    "        for idx, man_peak in enumerate(manual_peaks):\n",
    "            if abs(int(prospec_peak) - man_peak) <= 2:\n",
    "                detected_peak[idx] = True\n",
    "    #print(np.sort(manual_peaks))\n",
    "    #print(np.sort([round(x) for x in prospecpy_peaks]))\n",
    "    detection_percent = 100*sum(detected_peak)/len(detected_peak)\n",
    "\n",
    "    return detected_peak, detection_percent\n",
    "    "
   ]
  },
  {
   "cell_type": "code",
   "execution_count": 91,
   "metadata": {},
   "outputs": [],
   "source": [
    "def getSecondDerivative(cut_range_sub_wv_data, sample_name,threshold = 0.15):\n",
    "    example_cut_sub = cut_range_sub_wv_data[sample_name]\n",
    "    x = second_deriv(example_cut_sub, show_plots=False)\n",
    "    #because we want the peaks in the negative-y direction\n",
    "    d2ydx2_spl_upsidedown = x[1] * -1\n",
    "    relative_height = threshold * max(d2ydx2_spl_upsidedown)\n",
    "        #using the scipy peak finder to find peaks' indices in the 2nd derivative spline results\n",
    "    peaks_index = find_peaks(d2ydx2_spl_upsidedown, prominence=relative_height)\n",
    "\n",
    "    #use for loops to extract the coordinates of the peaks so we can plot them on the plot above\n",
    "    d2ydx2_peak_val = []\n",
    "    deriv_x_peak_val = []\n",
    "\n",
    "    for i in peaks_index[0]:\n",
    "        d2ydx2_peak = x[1][i]\n",
    "        deriv_x_peak = x[2][i]\n",
    "        d2ydx2_peak_val.append(d2ydx2_peak)\n",
    "        deriv_x_peak_val.append(deriv_x_peak)\n",
    "\n",
    "    return deriv_x_peak_val\n",
    "    "
   ]
  },
  {
   "cell_type": "code",
   "execution_count": 86,
   "metadata": {},
   "outputs": [],
   "source": [
    "def populatePeakTestFile(sample_name, prospecpy_peaks, peak_testing_file):\n",
    "    sample_number = sample_name.split('_')[0]\n",
    "    manual_peaks = peak_testing_file.loc[sample_number,'peak_x_val_manual']\n",
    "    if not pd.isna(manual_peaks) and manual_peaks != 'NA ':\n",
    "        manual_peaks = ast.literal_eval(manual_peaks)\n",
    "        peak_detected, detection_rate = peakDetectionTest(manual_peaks, prospecpy_peaks)\n",
    "        #Adding these valus back to the peak_testing_file dataframe\n",
    "        #Setting the wavenumbers of peaks identified by peak finder to the corresponding filename in column peak_x_val_prospecpy\n",
    "        peak_testing_file.loc[sample_number,'peak_x_val_prospecpy'] = str([round(x) for x in prospecpy_peaks])\n",
    "        peak_testing_file.loc[sample_number, 'detected_peak'] = str(peak_detected)\n",
    "        peak_testing_file.loc[sample_number, 'detection_percent'] = str(round(detection_rate))\n",
    "        peak_testing_file.loc[sample_number, 'num_peaks_in_manual_method'] = len(manual_peaks)\n",
    "        peak_testing_file.loc[sample_number, 'num_peaks_in_Prospecpy_method'] = len(prospecpy_peaks)\n",
    "    "
   ]
  },
  {
   "cell_type": "code",
   "execution_count": 96,
   "metadata": {},
   "outputs": [],
   "source": [
    "peak_testing_file = pd.read_excel(\"../../data/pre_baseline_testing.xlsx\", sheet_name=\"maral_test_3_20_24_30_pct\", index_col=0)"
   ]
  },
  {
   "cell_type": "code",
   "execution_count": 97,
   "metadata": {},
   "outputs": [
    {
     "name": "stderr",
     "output_type": "stream",
     "text": [
      "/var/folders/vt/_6rwtq1n0g10kn7_f2s353380000gn/T/ipykernel_58921/2369602489.py:9: FutureWarning: Setting an item of incompatible dtype is deprecated and will raise in a future error of pandas. Value '[2093, 1958]' has dtype incompatible with float64, please explicitly cast to a compatible dtype first.\n",
      "  peak_testing_file.loc[sample_number,'peak_x_val_prospecpy'] = str([round(x) for x in prospecpy_peaks])\n"
     ]
    }
   ],
   "source": [
    "#You can change the threshold value here to test different % height of max peaks.\n",
    "for sample_name in cut_range_sub_wv_data.keys():\n",
    "    prospecpy_peaks = getSecondDerivative(cut_range_sub_wv_data,sample_name, threshold=.15)\n",
    "    populatePeakTestFile(sample_name, prospecpy_peaks, peak_testing_file)"
   ]
  },
  {
   "cell_type": "code",
   "execution_count": 98,
   "metadata": {},
   "outputs": [],
   "source": [
    "peak_testing_file.drop('test', axis = 1, inplace = True)\n",
    "#peak_testing_file"
   ]
  },
  {
   "cell_type": "code",
   "execution_count": 99,
   "metadata": {},
   "outputs": [],
   "source": [
    "with pd.ExcelWriter(\"../../data/pre_baseline_testing.xlsx\", engine='openpyxl', mode='a', if_sheet_exists=\"replace\") as writer:\n",
    "    peak_testing_file.to_excel(writer, sheet_name=\"maral_test_3_20_24_30_pct\")\n",
    "    "
   ]
  }
 ],
 "metadata": {
  "kernelspec": {
   "display_name": "hydrogen",
   "language": "python",
   "name": "python3"
  },
  "language_info": {
   "codemirror_mode": {
    "name": "ipython",
    "version": 3
   },
   "file_extension": ".py",
   "mimetype": "text/x-python",
   "name": "python",
   "nbconvert_exporter": "python",
   "pygments_lexer": "ipython3",
   "version": "3.10.11"
  }
 },
 "nbformat": 4,
 "nbformat_minor": 2
}
