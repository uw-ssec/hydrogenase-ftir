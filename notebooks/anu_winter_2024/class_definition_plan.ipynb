{
 "cells": [
  {
   "cell_type": "markdown",
   "metadata": {},
   "source": [
    "#Outline of ProSpecPy Units of Analysis Objects\n",
    "\n",
    "Class \"ProSpecPy\":\n",
    "- def `_init_`\n",
    "    - pass in the filepaths for storing subfolders holding the images that are corresponding to each of the following get/set steps\n",
    "- def `set_raw_data`\n",
    "- def `get_raw_data`\n",
    "- def `set_cut_data`\n",
    "- def `get_cut_data`\n",
    "- def `set_sub_data`\n",
    "- def `get_sub_data`\n",
    "- def `set_second_deriv_data`\n",
    "- def `get_second_deriv_data`\n",
    "- def `set_adj_factor`\n",
    "- def `get_adj_factor`\n",
    "- def `set_pk_threshold`\n",
    "- def `get_pk_threshold`\n",
    "- def `set_baseline`\n",
    "- def `get_baseline`\n",
    "- def `set_baseline_sub`\n",
    "- def `get_baseline_sub`\n",
    "- def `set_peak_heights`\n",
    "- def `get_peak_heights`\n",
    "- def `get_fw_hm_peaks`\n",
    "- def `set_fw_hm_peaks`\n",
    "- def `set_gaussian_params`\n",
    "- def `get_gaussian_params`\n",
    "- def `set_lorentzian_params`\n",
    "- def `get_lorentzian_params`\n",
    "\n",
    "\n",
    "\n"
   ]
  }
 ],
 "metadata": {
  "language_info": {
   "name": "python"
  }
 },
 "nbformat": 4,
 "nbformat_minor": 2
}
