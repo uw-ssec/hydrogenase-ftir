{
 "cells": [
  {
   "cell_type": "code",
   "execution_count": null,
   "metadata": {},
   "outputs": [],
   "source": [
    "%load_ext autoreload\n",
    "%autoreload 2\n",
    "\n",
    "#Setting Up and Importing the Necessary Packages/Libraries\n",
    "##Package for reading in Bruker OPUS type files\n",
    "from brukeropusreader import read_file\n",
    "import matplotlib.pyplot as plt\n",
    "from scipy.interpolate import UnivariateSpline\n",
    "import pathlib\n",
    "import numpy as np\n",
    "import pandas as pd\n",
    "#Local Functions\n",
    "from hydrogenase_processing.cut_range import cut_range_subtraction, cut_range_subtraction_multiple_wv\n",
    "from hydrogenase_processing.second_deriv import second_deriv, first_deriv\n",
    "from hydrogenase_processing.anchor_points import get_peaks, get_start_end_anchorpoints, get_all_anchor_points\n",
    "from hydrogenase_processing.vaporfit import atm_subtraction\n",
    "from hydrogenase_processing.vaporfit import AtmFitParams\n",
    "#testing\n",
    "#find peaks\n",
    "from scipy.signal import find_peaks, peak_widths\n"
   ]
  },
  {
   "cell_type": "code",
   "execution_count": null,
   "metadata": {},
   "outputs": [],
   "source": [
    "#Paths to Local Data\n",
    "path_to_water_vapor_data = pathlib.Path(\"../../data/opus_files/water_vapor\")\n",
    "path_to_output_plots_= pathlib.Path(\"../../data/output_plots/\")\n",
    "path_to_pD8_data = pathlib.Path(\"../../data/opus_files/pD8\")"
   ]
  },
  {
   "cell_type": "code",
   "execution_count": null,
   "metadata": {},
   "outputs": [],
   "source": [
    "#Pulling in all pD8 sample data\n",
    "pD8_raw_files = list(path_to_pD8_data.iterdir())\n",
    "pD8_raw_files.sort()\n",
    "\n",
    "#Initializing dict of raw spectra files from the file system\n",
    "pD8_raw_data = dict()\n",
    "\n",
    "#Populating the raw_test_data dict with all the read in raw opus files\n",
    "##Using the last 5 characters, as they are the uniquely identifying portions of each of the file names\n",
    "for i in pD8_raw_files:\n",
    "    if not i.name.startswith('.DS_Store'):\n",
    "        pD8_raw_data[f'pD8_{i.name[0:4]}'] = read_file(i)\n",
    "\n",
    "print(pD8_raw_data.keys())"
   ]
  },
  {
   "cell_type": "code",
   "execution_count": null,
   "metadata": {},
   "outputs": [],
   "source": [
    "#Pulling in all wv data\n",
    "water_vapor_files = list(path_to_water_vapor_data.iterdir())\n",
    "water_vapor_files.sort()\n",
    "#Initializing dict of wv_files from the file system\n",
    "water_vapor_data = dict()\n",
    "\n",
    "#Populating the water_vapor_data dict with all the read in wv opus files\n",
    "#making sure names(keys) are distinct by subscripting\n",
    "for i in (water_vapor_files):\n",
    "    if not i.name.startswith('.DS_Store'):\n",
    "        water_vapor_data[f'wv_{i.name[-6:len(i.name)]}_data'] = read_file(i)\n",
    "\n",
    "print(water_vapor_data.keys())"
   ]
  },
  {
   "cell_type": "code",
   "execution_count": null,
   "metadata": {},
   "outputs": [],
   "source": [
    "#Pulling in config file for pD6 samples\n",
    "pd8_config_df = pd.read_excel(\"../../data/prospecpy_config.xlsx\", sheet_name=\"hyd2_pD_8\")\n",
    "#Cutting names in file_name column to match the imported files\n",
    "pd8_config_df[\"file_name\"] = pd8_config_df[\"file_name\"].apply(lambda file_name: f'pD8_{file_name[0:4]}') \n",
    "\n",
    "\n",
    "#Indexing the config dataframe by file_name for simultaneous parsing with the pD6_raw_data dict below\n",
    "indexed_pD8_config_df = pd8_config_df.set_index('file_name')\n",
    "print(indexed_pD8_config_df)"
   ]
  },
  {
   "cell_type": "code",
   "execution_count": null,
   "metadata": {},
   "outputs": [],
   "source": [
    "#Initializing dict of post water vapor subtraction spectra\n",
    "cut_range_sub_wv_data = dict()\n",
    "\n",
    "\n",
    "for idx, row in indexed_pD8_config_df.iterrows():  \n",
    "    print(idx)\n",
    "    if idx in pD8_raw_data:\n",
    "        raw_data_i = pD8_raw_data[idx]\n",
    "        cut_range_sub_wv_data[f'{idx}_cut_range_sub_wv'] = cut_range_subtraction_multiple_wv(raw_data_i, water_vapor_data, row[\"range_start\"], row[\"range_end\"], SG_poly = 3, SG_points = 21)\n",
    "    \n"
   ]
  },
  {
   "cell_type": "code",
   "execution_count": null,
   "metadata": {},
   "outputs": [],
   "source": [
    "#Creating Empty Dict for second derivative of cut and subtracted data\n",
    "second_deriv_pD8_data = dict()\n",
    "\n",
    "#Filling it with second derivatives of all the data\n",
    "for i in cut_range_sub_wv_data:\n",
    "    cut_range_sub_wv_data_i = cut_range_sub_wv_data[i]\n",
    "    print(i)\n",
    "    second_deriv_pD8_data[f'{i}_second_deriv'] = second_deriv(cut_range_sub_wv_data_i)\n"
   ]
  }
 ],
 "metadata": {
  "kernelspec": {
   "display_name": "hydrogen",
   "language": "python",
   "name": "python3"
  },
  "language_info": {
   "codemirror_mode": {
    "name": "ipython",
    "version": 3
   },
   "file_extension": ".py",
   "mimetype": "text/x-python",
   "name": "python",
   "nbconvert_exporter": "python",
   "pygments_lexer": "ipython3",
   "version": "3.12.3"
  }
 },
 "nbformat": 4,
 "nbformat_minor": 2
}
