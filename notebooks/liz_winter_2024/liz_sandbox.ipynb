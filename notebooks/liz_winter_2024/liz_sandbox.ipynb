{
 "cells": [
  {
   "cell_type": "code",
   "execution_count": null,
   "metadata": {},
   "outputs": [],
   "source": [
    "%load_ext autoreload\n",
    "%autoreload 2\n",
    "\n",
    "#Setting Up and Importing the Necessary Packages/Libraries\n",
    "##Package for reading in Bruker OPUS type files\n",
    "from brukeropusreader import read_file\n",
    "import matplotlib.pyplot as plt\n",
    "from scipy.interpolate import UnivariateSpline\n",
    "import pathlib\n",
    "import numpy as np\n",
    "import pandas as pd\n",
    "#Local Functions\n",
    "from hydrogenase_processing.cut_range import cut_range_subtraction\n",
    "#testing"
   ]
  },
  {
   "cell_type": "code",
   "execution_count": null,
   "metadata": {},
   "outputs": [],
   "source": [
    "#Paths to Local Data\n",
    "path_to_water_vapor_data = pathlib.Path(\"../../data/opus_files/water_vapor\")\n",
    "path_to_output_plots_= pathlib.Path(\"../../data/output_plots/\")\n",
    "path_to_all_test_data = pathlib.Path(\"../../data/opus_files/subtraction_coefficient_testing\") "
   ]
  },
  {
   "cell_type": "code",
   "execution_count": null,
   "metadata": {},
   "outputs": [],
   "source": [
    "#Importing Water Vapor\n",
    "wv_data = read_file(f'{path_to_water_vapor_data}''/water vapor 4cm-1.1')"
   ]
  },
  {
   "cell_type": "code",
   "execution_count": null,
   "metadata": {},
   "outputs": [],
   "source": [
    "#Pulling in all test data\n",
    "second_derivative_test_raw_data = list(path_to_all_test_data.iterdir())\n",
    "second_derivative_test_raw_data.sort()\n",
    "\n",
    "#Initializing dict of raw spectra files from the file system\n",
    "raw_data = dict()\n",
    "\n",
    "#Populating the raw_test_data dict with all the read in raw opus files\n",
    "for i in (second_derivative_test_raw_data):\n",
    "    if not i.name.startswith('.DS_Store'):\n",
    "        raw_data[i.name[0:4]] = read_file(i)\n",
    "\n",
    "print(raw_data.keys())"
   ]
  },
  {
   "cell_type": "code",
   "execution_count": null,
   "metadata": {},
   "outputs": [],
   "source": [
    "test_comparisons_parameters_df = pd.read_excel(\"../../data/test_subtraction_coefficients.xlsx\", sheet_name=\"anshul_edits\")\n",
    "\n",
    "#full_file_names = test_comparisons_parameters_df[\"file_name\"]\n",
    "\n",
    "test_comparisons_parameters_df[\"file_name\"] = test_comparisons_parameters_df[\"file_name\"].apply(lambda file_name: file_name[0:4]) \n",
    "\n",
    "#test_comparisons_parameters_df[\"file_name\"] = exp_num_file_name\n",
    "\n",
    "\n",
    "indexed_test_comparison_parameters = test_comparisons_parameters_df.set_index('file_name')"
   ]
  },
  {
   "cell_type": "code",
   "execution_count": null,
   "metadata": {},
   "outputs": [],
   "source": [
    "#Initializing dict of post water vapor subtraction spectra\n",
    "cut_range_sub_wv_data = dict()\n",
    "\n",
    "results = list()\n",
    "\n",
    "for idx, row in indexed_test_comparison_parameters.iterrows():  \n",
    "    print(idx)\n",
    "    if idx in raw_data:\n",
    "        raw_data_i = raw_data[idx]\n",
    "        cut_range_sub_wv_data[f'{idx}_cut_range_wv_sub'] = cut_range_subtraction(raw_data_i, wv_data, row[\"range_start\"], row[\"range_end\"], SG_poly = 3, SG_points = 21)\n",
    "        subtraction_parameters = cut_range_sub_wv_data[f'{idx}_cut_range_wv_sub'][0][0].fit_atm_params\n",
    "        results.append(subtraction_parameters[0])\n",
    "    else:\n",
    "        results.append(None)\n",
    "\n",
    "indexed_test_comparison_parameters[\"pb_subtraction_coefficient\"] = results"
   ]
  },
  {
   "cell_type": "code",
   "execution_count": null,
   "metadata": {},
   "outputs": [],
   "source": [
    "#Extracting wavenb and abs for one of the corrected spectra\n",
    "example_cut_sub = cut_range_sub_wv_data[\"011a_cut_range_wv_sub\"]\n",
    "\n",
    "x_wavenb = example_cut_sub[0][0].wavenb\n",
    "y_corr_abs = example_cut_sub[0][0].sub_spectrum\n",
    "\n",
    "plt.plot(x_wavenb, y_corr_abs)"
   ]
  }
 ],
 "metadata": {
  "kernelspec": {
   "display_name": "notebook",
   "language": "python",
   "name": "python3"
  },
  "language_info": {
   "codemirror_mode": {
    "name": "ipython",
    "version": 3
   },
   "file_extension": ".py",
   "mimetype": "text/x-python",
   "name": "python",
   "nbconvert_exporter": "python",
   "pygments_lexer": "ipython3",
   "version": "3.12.2"
  }
 },
 "nbformat": 4,
 "nbformat_minor": 2
}
