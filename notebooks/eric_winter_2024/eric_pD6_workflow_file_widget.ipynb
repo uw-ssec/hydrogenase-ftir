{
 "cells": [
  {
   "cell_type": "code",
   "execution_count": 1,
   "metadata": {},
   "outputs": [
    {
     "ename": "ImportError",
     "evalue": "cannot import name 'get_peak_baseline_absorbance' from 'hydrogenase_processing.anchor_points' (/workspaces/hydrogenase-ftir/src/hydrogenase_processing/anchor_points.py)",
     "output_type": "error",
     "traceback": [
      "\u001b[0;31m---------------------------------------------------------------------------\u001b[0m",
      "\u001b[0;31mImportError\u001b[0m                               Traceback (most recent call last)",
      "Cell \u001b[0;32mIn[1], line 20\u001b[0m\n\u001b[1;32m     18\u001b[0m \u001b[38;5;28;01mfrom\u001b[39;00m \u001b[38;5;21;01mhydrogenase_processing\u001b[39;00m\u001b[38;5;21;01m.\u001b[39;00m\u001b[38;5;21;01mvaporfit\u001b[39;00m \u001b[38;5;28;01mimport\u001b[39;00m AtmFitParams\n\u001b[1;32m     19\u001b[0m \u001b[38;5;28;01mfrom\u001b[39;00m \u001b[38;5;21;01mscipy\u001b[39;00m\u001b[38;5;21;01m.\u001b[39;00m\u001b[38;5;21;01msignal\u001b[39;00m \u001b[38;5;28;01mimport\u001b[39;00m find_peaks, peak_widths\n\u001b[0;32m---> 20\u001b[0m \u001b[38;5;28;01mfrom\u001b[39;00m \u001b[38;5;21;01mhydrogenase_processing\u001b[39;00m\u001b[38;5;21;01m.\u001b[39;00m\u001b[38;5;21;01manchor_points\u001b[39;00m \u001b[38;5;28;01mimport\u001b[39;00m get_peaks, get_start_end_anchorpoints, get_all_anchor_points, baseline_spline, get_peaks_absorbance, baseline_correction, get_peak_baseline_absorbance, plot_baseline_data\n\u001b[1;32m     21\u001b[0m \u001b[38;5;28;01mfrom\u001b[39;00m \u001b[38;5;21;01mhydrogenase_processing\u001b[39;00m\u001b[38;5;21;01m.\u001b[39;00m\u001b[38;5;21;01mpeak_fit\u001b[39;00m \u001b[38;5;28;01mimport\u001b[39;00m gaussian, peak_fit, lorentzian\n\u001b[1;32m     22\u001b[0m \u001b[38;5;28;01mfrom\u001b[39;00m \u001b[38;5;21;01mhydrogenase_processing\u001b[39;00m\u001b[38;5;21;01m.\u001b[39;00m\u001b[38;5;21;01mio\u001b[39;00m \u001b[38;5;28;01mimport\u001b[39;00m import_run_data\n",
      "\u001b[0;31mImportError\u001b[0m: cannot import name 'get_peak_baseline_absorbance' from 'hydrogenase_processing.anchor_points' (/workspaces/hydrogenase-ftir/src/hydrogenase_processing/anchor_points.py)"
     ]
    }
   ],
   "source": [
    "%load_ext autoreload\n",
    "%autoreload 2\n",
    "\n",
    "#Setting Up and Importing the Necessary Packages/Libraries\n",
    "##Package for reading in Bruker OPUS type files\n",
    "from brukeropusreader import read_file\n",
    "import matplotlib.pyplot as plt\n",
    "from scipy.interpolate import UnivariateSpline\n",
    "import pathlib\n",
    "import numpy as np\n",
    "import pandas as pd\n",
    "#Local Functions\n",
    "from hydrogenase_processing.cut_range import cut_range_subtraction, cut_range_subtraction_multiple_wv, cut_range_subtract_multiple_wv\n",
    "from hydrogenase_processing.second_deriv import second_deriv, first_deriv\n",
    "from hydrogenase_processing.anchor_points import interact\n",
    "from hydrogenase_processing.anchor_points import get_peaks, get_start_end_anchorpoints, get_all_anchor_points\n",
    "from hydrogenase_processing.vaporfit import atm_subtraction\n",
    "from hydrogenase_processing.vaporfit import AtmFitParams\n",
    "from scipy.signal import find_peaks, peak_widths\n",
    "from hydrogenase_processing.anchor_points import get_peaks, get_start_end_anchorpoints, get_all_anchor_points, baseline_spline, get_peaks_absorbance, baseline_correction, get_peak_baseline_absorbance, plot_baseline_data\n",
    "from hydrogenase_processing.peak_fit import gaussian, peak_fit, lorentzian\n",
    "from hydrogenase_processing.io import import_run_data\n"
   ]
  },
  {
   "cell_type": "code",
   "execution_count": null,
   "metadata": {},
   "outputs": [],
   "source": [
    "#Paths to Local Data\n",
    "path_to_water_vapor_data = pathlib.Path(\"../../data/opus_files/water_vapor\")\n",
    "path_to_output_plots_= pathlib.Path(\"../../data/output_plots/\")\n",
    "path_to_pD6_data = pathlib.Path(\"../../data/opus_files/pD6\")"
   ]
  },
  {
   "cell_type": "code",
   "execution_count": null,
   "metadata": {},
   "outputs": [],
   "source": [
    "pD6_raw_data = import_run_data(path_to_pD6_data)\n",
    "wv_data = import_run_data(path_to_water_vapor_data)"
   ]
  },
  {
   "cell_type": "code",
   "execution_count": null,
   "metadata": {},
   "outputs": [],
   "source": [
    "#Initializing dict of post water vapor subtraction spectra\n",
    "cut_range_sub_wv_data = cut_range_subtract_multiple_wv(pD6_raw_data, wv_data, range_start = 2150, range_end = 1850)\n"
   ]
  },
  {
   "cell_type": "code",
   "execution_count": null,
   "metadata": {},
   "outputs": [],
   "source": [
    "sample_raw = cut_range_sub_wv_data[\"Hyd1 pD6 ACT.0008\"]\n",
    "sample_raw[0][0].plot()\n",
    "\n",
    "print(sample_raw[0][0].fit_atm_params)"
   ]
  },
  {
   "cell_type": "code",
   "execution_count": null,
   "metadata": {},
   "outputs": [],
   "source": [
    "#Creating Empty Dict for second derivative of cut and subtracted data\n",
    "second_deriv_pD6_data = dict()\n",
    "\n",
    "#Filling it with second derivatives of all the data\n",
    "for i in cut_range_sub_wv_data:\n",
    "    cut_range_sub_wv_data_i = cut_range_sub_wv_data[i]\n",
    "    print(i)\n",
    "    second_deriv_pD6_data[f'{i}_second_deriv'] = second_deriv(cut_range_sub_wv_data_i, show_plots=False)"
   ]
  },
  {
   "cell_type": "code",
   "execution_count": null,
   "metadata": {},
   "outputs": [],
   "source": [
    "sample_second_deriv = second_deriv_pD6_data[\"Hyd1 pD6 ACT.0008_second_deriv\"]\n",
    "#print(sample_second_deriv)"
   ]
  },
  {
   "cell_type": "markdown",
   "metadata": {},
   "source": [
    "## Add the file widget here "
   ]
  },
  {
   "cell_type": "code",
   "execution_count": null,
   "metadata": {},
   "outputs": [],
   "source": [
    "#anchor_point_dict, deriv_x_peak_val, anchor_points_raw_data, y_corr_abs\n",
    "anchor_point_dict, deriv_x_peak_val, anchor_points_raw_data, y_corr_abs = interact(sample_second_deriv, sample_raw, 0.4, 1.8)"
   ]
  },
  {
   "cell_type": "code",
   "execution_count": null,
   "metadata": {},
   "outputs": [],
   "source": [
    "peaks_index, deriv_x_peak_val, d2ydx2_peak_val = get_peaks(sample_second_deriv, threshold = 0.4)\n",
    "wv_startIdx, wv_endIdx = get_start_end_anchorpoints(peaks_index[0], sample_second_deriv)\n",
    "y_corr_abs = sample_raw[0][0].sub_spectrum\n",
    "anchor_points_raw_data = sample_raw[0][0].wavenb\n"
   ]
  },
  {
   "cell_type": "code",
   "execution_count": null,
   "metadata": {},
   "outputs": [],
   "source": [
    "anchor_point_dict = {} #key is the adjustment factor and value is the list of anchor points using that adjustemnt factor\n",
    "\n",
    "anchor_point_dict[2] = get_all_anchor_points(wv_startIdx, wv_endIdx, deriv_x_peak_val, anchor_points_raw_data, y_corr_abs, 2)"
   ]
  },
  {
   "cell_type": "code",
   "execution_count": null,
   "metadata": {},
   "outputs": [],
   "source": [
    "anchor_points = anchor_point_dict.get(2)\n",
    "anchor_points_df = anchor_points[0]  # Extracting the DataFrame which has the necessary columns because update function takes a data frame of anchor points containing  wavenumber and absorbances\n",
    "baseline_curve = baseline_spline(anchor_points_df, smooth=10**-9)\n",
    "peak_wv, peak_abs = get_peaks_absorbance(deriv_x_peak_val, anchor_points_raw_data, y_corr_abs)\n",
    "\n",
    "plt.plot(anchor_points_raw_data, y_corr_abs, label = 'raw data')\n",
    "plt.plot(baseline_curve['wavenumber'], baseline_curve['absorbance'], 'r-', label = 'baseline spline')\n",
    "plt.plot(peak_wv, peak_abs, 'go', label = 'peaks')\n",
    "plt.legend()\n"
   ]
  },
  {
   "cell_type": "code",
   "execution_count": null,
   "metadata": {},
   "outputs": [],
   "source": [
    "baseline_corrected_abs = baseline_correction(baseline_curve, anchor_points_raw_data, y_corr_abs)\n",
    "#print(baseline_corrected_abs)\n",
    "peak_baseline_abs = get_peak_baseline_absorbance(anchor_points_raw_data, baseline_corrected_abs, peak_wv)\n",
    "plot_baseline_data(anchor_points_raw_data, baseline_corrected_abs, peak_wv, peak_baseline_abs)"
   ]
  },
  {
   "cell_type": "code",
   "execution_count": null,
   "metadata": {},
   "outputs": [],
   "source": [
    "#Half height width\n",
    "indices = np.where(np.isin(anchor_points_raw_data,peak_wv))[0]\n",
    "peak_width,height, left_ips, right_ips = peak_widths(baseline_corrected_abs, indices, rel_height=0.5) \n",
    "print(indices)\n",
    "print(peak_width)"
   ]
  },
  {
   "cell_type": "code",
   "execution_count": null,
   "metadata": {},
   "outputs": [],
   "source": [
    "def gaussian_fit(x, *params):\n",
    "\n",
    "    y = np.zeros_like(x)\n",
    "\n",
    "    for i in range(0, len(params), 3):\n",
    "        amplitude = params[i]\n",
    "        center = params[i+1]\n",
    "        sigma = params[i+2]\n",
    "        y += amplitude*(1/(sigma* np.sqrt(2*np.pi)))*np.exp((-1/2)*((x - center)/ sigma)**2) \n",
    "    return y"
   ]
  },
  {
   "cell_type": "code",
   "execution_count": null,
   "metadata": {},
   "outputs": [],
   "source": [
    "from scipy.optimize import curve_fit\n",
    "#2091.614748864712, 2080.0497375656423,\n",
    "guess = [0.3, 1939, 2, 0.14, 1958, 2, 0.014, 2080.05, 2, 0.24, 2091.6, 2]\n",
    "params, covariance = curve_fit(gaussian_fit, anchor_points_raw_data, baseline_corrected_abs, guess)\n",
    "plt.plot(anchor_points_raw_data,baseline_corrected_abs, label = 'baseline corrected data')\n",
    "plt.plot(anchor_points_raw_data, gaussian_fit(anchor_points_raw_data, *params))\n",
    "plt.legend()"
   ]
  },
  {
   "cell_type": "code",
   "execution_count": null,
   "metadata": {},
   "outputs": [],
   "source": [
    "fig, ax = plt.subplots(figsize=(8, 6))\n",
    "ax.plot(anchor_points_raw_data,baseline_corrected_abs, 'b', label=\"given curve\")\n",
    "\n",
    "ax.plot(anchor_points_raw_data, gaussian_fit(anchor_points_raw_data, *params), ls=':', label=\"Fit function\", linewidth=4, color='purple')\n",
    "for i, (a, c, s )in enumerate( params.reshape(-1, 3)):\n",
    "    ax.plot(anchor_points_raw_data, gaussian_fit(anchor_points_raw_data, a, c, s), ls='-', label=f\"gauss {i+1}\", linewidth=1, color='crimson')\n",
    "ax.legend()\n",
    "ax.autoscale(axis='x', tight=True)\n",
    "plt.show()"
   ]
  },
  {
   "cell_type": "code",
   "execution_count": null,
   "metadata": {},
   "outputs": [],
   "source": [
    "guess = [0.3, 1939, 2, 0.14, 1958, 2, 0.014, 2080.05, 2, 0.24, 2091.6, 2]\n",
    "params = peak_fit(gaussian,guess,  anchor_points_raw_data, baseline_corrected_abs)"
   ]
  }
 ],
 "metadata": {
  "kernelspec": {
   "display_name": "hydrogen",
   "language": "python",
   "name": "python3"
  },
  "language_info": {
   "codemirror_mode": {
    "name": "ipython",
    "version": 3
   },
   "file_extension": ".py",
   "mimetype": "text/x-python",
   "name": "python",
   "nbconvert_exporter": "python",
   "pygments_lexer": "ipython3",
   "version": "3.1.undefined"
  }
 },
 "nbformat": 4,
 "nbformat_minor": 2
}
