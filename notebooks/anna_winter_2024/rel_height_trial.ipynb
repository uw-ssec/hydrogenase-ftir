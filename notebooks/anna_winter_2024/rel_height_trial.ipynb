{
 "cells": [
  {
   "cell_type": "code",
   "execution_count": null,
   "metadata": {},
   "outputs": [],
   "source": [
    "load_ext autoreload\n",
    "%autoreload 2\n",
    "\n",
    "#Setting Up and Importing the Necessary Packages/Libraries\n",
    "##Package for reading in Bruker OPUS type files\n",
    "from brukeropusreader import read_file\n",
    "import matplotlib.pyplot as plt\n",
    "from scipy.interpolate import UnivariateSpline\n",
    "import pathlib\n",
    "import numpy as np\n",
    "import pandas as pd\n",
    "#Local Functions\n",
    "from hydrogenase_processing.cut_range import cut_range_subtraction\n",
    "from hydrogenase_processing.second_deriv import second_deriv, first_deriv\n",
    "#testing\n",
    "#find peaks\n",
    "from scipy.signal import find_peaks, peak_widths\n",
    "from hydrogenase_processing.anchor_points import get_peaks, get_start_end_anchorpoints, get_all_anchor_points, baseline_spline, get_peaks_absorbance, baseline_correction"
   ]
  },
  {
   "cell_type": "code",
   "execution_count": null,
   "metadata": {},
   "outputs": [],
   "source": [
    "#Paths to Local Data\n",
    "path_to_water_vapor_data = pathlib.Path(\"../../data/data/opus_files/water_vapor\")\n",
    "path_to_output_plots_= pathlib.Path(\"../../data/data/output_plots\")\n",
    "path_to_all_test_data = pathlib.Path(\"../../data/data/opus_files/subtraction_coefficient_testing\") \n",
    "#data/data/opus_files"
   ]
  },
  {
   "cell_type": "code",
   "execution_count": null,
   "metadata": {},
   "outputs": [],
   "source": [
    "#Importing Water Vapor\n",
    "wv_data = read_file(f'{path_to_water_vapor_data}''/water vapor 4cm-1.1')"
   ]
  },
  {
   "cell_type": "code",
   "execution_count": null,
   "metadata": {},
   "outputs": [],
   "source": [
    "#Pulling in all test data\n",
    "second_derivative_test_raw_data = list(path_to_all_test_data.iterdir())\n",
    "second_derivative_test_raw_data.sort()\n",
    "\n",
    "#Initializing dict of raw spectra files from the file system\n",
    "raw_data = dict()\n",
    "\n",
    "#Populating the raw_test_data dict with all the read in raw opus files\n",
    "for i in (second_derivative_test_raw_data):\n",
    "    if not i.name.startswith('.DS_Store'):\n",
    "        raw_data[i.name[0:4]] = read_file(i)\n",
    "\n",
    "print(raw_data.keys())"
   ]
  },
  {
   "cell_type": "code",
   "execution_count": null,
   "metadata": {},
   "outputs": [],
   "source": [
    "test_comparisons_parameters_df = pd.read_excel(\"../../../data/test_subtraction_coefficients.xlsx\", sheet_name=\"uncut_samples\")\n",
    "\n",
    "#full_file_names = test_comparisons_parameters_df[\"file_name\"]\n",
    "\n",
    "test_comparisons_parameters_df[\"file_name\"] = test_comparisons_parameters_df[\"file_name\"].apply(lambda file_name: file_name[0:4]) \n",
    "\n",
    "#test_comparisons_parameters_df[\"file_name\"] = exp_num_file_name\n",
    "\n",
    "\n",
    "indexed_test_comparison_parameters = test_comparisons_parameters_df.set_index('file_name')"
   ]
  },
  {
   "cell_type": "code",
   "execution_count": null,
   "metadata": {},
   "outputs": [],
   "source": [
    "### Subtracting Water Vapor"
   ]
  },
  {
   "cell_type": "markdown",
   "metadata": {},
   "source": []
  },
  {
   "cell_type": "markdown",
   "metadata": {},
   "source": []
  }
 ],
 "metadata": {
  "language_info": {
   "name": "python"
  }
 },
 "nbformat": 4,
 "nbformat_minor": 2
}
