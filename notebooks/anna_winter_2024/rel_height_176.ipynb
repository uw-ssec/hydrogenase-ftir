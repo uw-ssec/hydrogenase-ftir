{
 "cells": [
  {
   "cell_type": "code",
   "execution_count": 1,
   "metadata": {},
   "outputs": [],
   "source": [
    "import sys\n",
    "sys.path.append(\"/Users/anuram/Documents/hydrogenase-ftir/src\")\n",
    "sys.path.append(\"/Users/anuram/Documents/hydrogenase-ftir/notebooks/anu_winter_2024\")"
   ]
  },
  {
   "cell_type": "code",
   "execution_count": 3,
   "metadata": {},
   "outputs": [
    {
     "name": "stdout",
     "output_type": "stream",
     "text": [
      "The autoreload extension is already loaded. To reload it, use:\n",
      "  %reload_ext autoreload\n"
     ]
    }
   ],
   "source": [
    "%load_ext autoreload\n",
    "%autoreload 2\n",
    "\n",
    "#Setting Up and Importing the Necessary Packages/Libraries\n",
    "##Package for reading in Bruker OPUS type files\n",
    "from brukeropusreader import read_file\n",
    "import matplotlib.pyplot as plt\n",
    "from scipy.interpolate import UnivariateSpline\n",
    "import pathlib\n",
    "import numpy as np\n",
    "import pandas as pd\n",
    "#Local Functions\n",
    "from hydrogenase_processing.cut_range import cut_range_subtraction\n",
    "from hydrogenase_processing.second_deriv import second_deriv, first_deriv\n",
    "#testing\n",
    "#find peaks\n",
    "from scipy.signal import find_peaks, peak_widths\n",
    "from hydrogenase_processing.anchor_points import get_peaks, get_start_end_anchorpoints, get_all_anchor_points, baseline_spline, get_peaks_absorbance, baseline_correction, get_peak_baseline_absorbance, plot_baseline_data\n",
    "from hydrogenase_processing.peak_fit import gaussian, peak_fit, lorentzian"
   ]
  },
  {
   "cell_type": "code",
   "execution_count": 18,
   "metadata": {},
   "outputs": [],
   "source": [
    "#Paths to Local Data\n",
    "path_to_water_vapor_data = pathlib.Path(\"../../data/opus_files/water_vapor\")\n",
    "path_to_output_plots_= pathlib.Path(\"../../data/output_plots\")\n",
    "path_to_all_test_data = pathlib.Path(\"../../data/opus_files/subtraction_coefficient_testing\") "
   ]
  },
  {
   "cell_type": "markdown",
   "metadata": {},
   "source": [
    "## Importing the Data form the local paths specified above ##"
   ]
  },
  {
   "cell_type": "code",
   "execution_count": 17,
   "metadata": {},
   "outputs": [],
   "source": [
    "#Importing Water Vapor\n",
    "wv_data = read_file(f'{path_to_water_vapor_data}''/water vapor 4cm-1.1')"
   ]
  },
  {
   "cell_type": "code",
   "execution_count": 6,
   "metadata": {},
   "outputs": [
    {
     "name": "stdout",
     "output_type": "stream",
     "text": [
      "dict_keys(['011a', '011b', '011c', '011d', '011e', '011f', '011g', '011h', '011i', '011k', '011l', '011m', '011n', '011o', '011p', '011q', '011r', '011s', '011t', '160 ', '162 ', '164 ', '165 ', '166 ', '167 ', '168 ', '169 ', '170 ', '171 ', '172 '])\n"
     ]
    }
   ],
   "source": [
    "#### cant do 176 cos i cant see it \n",
    "#Pulling in all test data\n",
    "second_derivative_test_raw_data = list(path_to_all_test_data.iterdir())\n",
    "second_derivative_test_raw_data.sort()\n",
    "\n",
    "#Initializing dict of raw spectra files from the file system\n",
    "raw_data = dict()\n",
    "\n",
    "#Populating the raw_test_data dict with all the read in raw opus files\n",
    "for i in (second_derivative_test_raw_data):\n",
    "    if not i.name.startswith('.DS_Store'):\n",
    "        raw_data[i.name[0:4]] = read_file(i)\n",
    "\n",
    "print(raw_data.keys())"
   ]
  },
  {
   "cell_type": "code",
   "execution_count": 11,
   "metadata": {},
   "outputs": [],
   "source": [
    "test_comparisons_parameters_df = pd.read_excel(\"../../data/test_subtraction_coefficients.xlsx\", sheet_name=\"uncut_samples\")\n",
    "\n",
    "#full_file_names = test_comparisons_parameters_df[\"file_name\"]\n",
    "\n",
    "test_comparisons_parameters_df[\"file_name\"] = test_comparisons_parameters_df[\"file_name\"].apply(lambda file_name: file_name[0:4]) \n",
    "\n",
    "#test_comparisons_parameters_df[\"file_name\"] = exp_num_file_name\n",
    "\n",
    "\n",
    "indexed_test_comparison_parameters = test_comparisons_parameters_df.set_index('file_name')\n"
   ]
  },
  {
   "cell_type": "markdown",
   "metadata": {},
   "source": [
    "## Subtracting Water Vapor\n"
   ]
  },
  {
   "cell_type": "code",
   "execution_count": 12,
   "metadata": {},
   "outputs": [
    {
     "name": "stdout",
     "output_type": "stream",
     "text": [
      "2150.0 1800.0\n",
      "959 1141\n",
      "2150.0 1800.0\n",
      "959 1141\n",
      "2150.0 1800.0\n",
      "959 1141\n",
      "2150.0 1800.0\n",
      "959 1141\n",
      "2150.0 1850.0\n",
      "959 1115\n",
      "2150.0 1850.0\n",
      "959 1115\n",
      "2150.0 1850.0\n",
      "959 1115\n",
      "2150.0 1850.0\n",
      "959 1115\n",
      "2150.0 1850.0\n",
      "959 1115\n",
      "2150.0 1850.0\n",
      "959 1115\n",
      "2150.0 1850.0\n",
      "959 1115\n",
      "2150.0 1850.0\n",
      "959 1115\n",
      "2150.0 1850.0\n",
      "959 1115\n",
      "2150.0 1850.0\n",
      "959 1115\n",
      "2150.0 1850.0\n",
      "959 1115\n",
      "2150.0 1850.0\n",
      "959 1115\n",
      "2150.0 1850.0\n",
      "959 1115\n",
      "2150.0 1850.0\n",
      "959 1115\n",
      "2150.0 1850.0\n",
      "959 1115\n",
      "2150.0 1850.0\n",
      "959 1115\n",
      "2150.0 1850.0\n",
      "959 1115\n",
      "2150.0 1850.0\n",
      "959 1115\n",
      "2150.0 1850.0\n",
      "959 1115\n",
      "2150.0 1850.0\n",
      "959 1115\n",
      "2150.0 1850.0\n",
      "959 1115\n",
      "2150.0 1850.0\n",
      "959 1115\n",
      "2150.0 1850.0\n",
      "959 1115\n",
      "2150.0 1850.0\n",
      "959 1115\n",
      "2150.0 1850.0\n",
      "959 1115\n",
      "2150.0 1850.0\n",
      "959 1115\n"
     ]
    }
   ],
   "source": [
    "#Initializing dict of post water vapor subtraction spectra\n",
    "cut_range_sub_wv_data = dict()\n",
    "\n",
    "results = list()\n",
    "\n",
    "for idx, row in indexed_test_comparison_parameters.iterrows():  \n",
    "    if idx in raw_data:\n",
    "        raw_data_i = raw_data[idx]\n",
    "        cut_range_sub_wv_data[f'{idx}_cut_range_wv_sub'] = cut_range_subtraction(raw_data_i, wv_data, row[\"range_start\"], row[\"range_end\"], SG_poly = 3, SG_points = 21)\n",
    "        subtraction_parameters = cut_range_sub_wv_data[f'{idx}_cut_range_wv_sub'][0][0].fit_atm_params\n",
    "        results.append(subtraction_parameters[0])\n",
    "    else:\n",
    "        results.append(None)\n",
    "\n",
    "indexed_test_comparison_parameters[\"pb_subtraction_coefficient\"] = results"
   ]
  },
  {
   "cell_type": "markdown",
   "metadata": {},
   "source": [
    "# Get Second derivative\n"
   ]
  },
  {
   "cell_type": "code",
   "execution_count": 14,
   "metadata": {},
   "outputs": [
    {
     "name": "stdout",
     "output_type": "stream",
     "text": [
      "['160 _cut_range_wv_sub', '167 _cut_range_wv_sub', '162 _cut_range_wv_sub', '011a_cut_range_wv_sub', '011b_cut_range_wv_sub', '011c_cut_range_wv_sub', '011d_cut_range_wv_sub', '011e_cut_range_wv_sub', '011f_cut_range_wv_sub', '011g_cut_range_wv_sub', '011h_cut_range_wv_sub', '011i_cut_range_wv_sub', '011k_cut_range_wv_sub', '011l_cut_range_wv_sub', '011m_cut_range_wv_sub', '011n_cut_range_wv_sub', '011o_cut_range_wv_sub', '011p_cut_range_wv_sub', '011q_cut_range_wv_sub', '011r_cut_range_wv_sub', '011s_cut_range_wv_sub', '011t_cut_range_wv_sub', '164 _cut_range_wv_sub', '165 _cut_range_wv_sub', '166 _cut_range_wv_sub', '168 _cut_range_wv_sub', '169 _cut_range_wv_sub', '170 _cut_range_wv_sub', '171 _cut_range_wv_sub', '172 _cut_range_wv_sub']\n"
     ]
    }
   ],
   "source": [
    "print(list(cut_range_sub_wv_data.keys()))\n"
   ]
  },
  {
   "cell_type": "code",
   "execution_count": 13,
   "metadata": {},
   "outputs": [
    {
     "ename": "KeyError",
     "evalue": "'176 _cut_range_wv_sub'",
     "output_type": "error",
     "traceback": [
      "\u001b[0;31m---------------------------------------------------------------------------\u001b[0m",
      "\u001b[0;31mKeyError\u001b[0m                                  Traceback (most recent call last)",
      "Cell \u001b[0;32mIn[13], line 2\u001b[0m\n\u001b[1;32m      1\u001b[0m \u001b[38;5;66;03m#Extracting wavenb and abs for one of the corrected spectra\u001b[39;00m\n\u001b[0;32m----> 2\u001b[0m example_cut_sub \u001b[38;5;241m=\u001b[39m \u001b[43mcut_range_sub_wv_data\u001b[49m\u001b[43m[\u001b[49m\u001b[38;5;124;43m\"\u001b[39;49m\u001b[38;5;124;43m176 _cut_range_wv_sub\u001b[39;49m\u001b[38;5;124;43m\"\u001b[39;49m\u001b[43m]\u001b[49m\n\u001b[1;32m      4\u001b[0m x \u001b[38;5;241m=\u001b[39m second_deriv(example_cut_sub, show_plots\u001b[38;5;241m=\u001b[39m\u001b[38;5;28;01mTrue\u001b[39;00m)\n",
      "\u001b[0;31mKeyError\u001b[0m: '176 _cut_range_wv_sub'"
     ]
    }
   ],
   "source": [
    "#Extracting wavenb and abs for one of the corrected spectra\n",
    "example_cut_sub = cut_range_sub_wv_data[\"176 _cut_range_wv_sub\"]\n",
    "\n",
    "x = second_deriv(example_cut_sub, show_plots=True)\n"
   ]
  },
  {
   "cell_type": "markdown",
   "metadata": {},
   "source": [
    "## Testing with the smaller peak width algorithm and tuning the ajustment factor"
   ]
  },
  {
   "cell_type": "code",
   "execution_count": null,
   "metadata": {},
   "outputs": [],
   "source": [
    "start = 1\n",
    "end = 5\n",
    "step = 0.25\n",
    "anchor_point_dict = {}\n",
    "adjustment_factor = np.arange(start, end + step, step)\n",
    "#adjustment_factor = [1]\n",
    "#using default prominence threshold of 15%\n",
    "for adj_factor in adjustment_factor:\n",
    "    plt.figure()\n",
    "    peaks_index, deriv_x_peak_val = get_peaks(x)\n",
    "\n",
    "    wv_startIdx, wv_endIdx = get_start_end_anchorpoints(peaks_index[0], x)\n",
    "    y_corr_abs = example_cut_sub[0][0].sub_spectrum\n",
    "    anchor_points_raw_data = example_cut_sub[0][0].wavenb\n",
    "    anchor_point_dict[round(adj_factor, 2)] =get_all_anchor_points(wv_startIdx, wv_endIdx, deriv_x_peak_val, anchor_points_raw_data, y_corr_abs, f'Anchor points using {round(adj_factor, 2)} as adj_factor', round(adj_factor, 2))"
   ]
  },
  {
   "cell_type": "code",
   "execution_count": null,
   "metadata": {},
   "outputs": [],
   "source": [
    "anchor_points = anchor_point_dict.get(2.25)\n",
    "\n",
    "baseline_curve = baseline_spline(anchor_points)\n",
    "peak_wv, peak_abs = get_peaks_absorbance(deriv_x_peak_val, anchor_points_raw_data, y_corr_abs)\n",
    "plt.plot(anchor_points_raw_data, y_corr_abs, label = 'raw data')\n",
    "plt.plot(baseline_curve['wavenumber'], baseline_curve['absorbance'], 'r--', label = 'baseline spline')\n",
    "plt.plot(peak_wv, peak_abs, 'go', label = 'peaks')\n",
    "plt.legend()"
   ]
  }
 ],
 "metadata": {
  "kernelspec": {
   "display_name": "hydrogen",
   "language": "python",
   "name": "python3"
  },
  "language_info": {
   "codemirror_mode": {
    "name": "ipython",
    "version": 3
   },
   "file_extension": ".py",
   "mimetype": "text/x-python",
   "name": "python",
   "nbconvert_exporter": "python",
   "pygments_lexer": "ipython3",
   "version": "3.12.3"
  }
 },
 "nbformat": 4,
 "nbformat_minor": 2
}
